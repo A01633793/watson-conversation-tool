{
 "cells": [
  {
   "cell_type": "markdown",
   "metadata": {},
   "source": [
    "The following shows how to invoke the tool. The help section is automagically generated and needs some rework. Thus, see below for some real usage or read the README in the GitHub repository."
   ]
  },
  {
   "cell_type": "code",
   "execution_count": 3,
   "metadata": {
    "collapsed": false
   },
   "outputs": [
    {
     "name": "stdout",
     "output_type": "stream",
     "text": [
      "usage: wctool [-h] [-l] [-c] [-u] [-d] [-g] [-full] [-id WORKSPACEID]\n",
      "              [-o OUTFILE] [-i INFILE] [-name WSNAME] [-desc WSDESCRIPTION]\n",
      "              [-lang WSLANG] [-intents] [-entities] [-dialog_nodes]\n",
      "              [-counterexamples] [-metadata]\n",
      "\n",
      "Process my Watson Conversation Commands\n",
      "\n",
      "optional arguments:\n",
      "  -h, --help           show this help message and exit\n",
      "  -l                   list workspaces\n",
      "  -c                   create workspace\n",
      "  -u                   update workspace\n",
      "  -d                   delete workspace\n",
      "  -g                   get details for single workspace\n",
      "  -full                get the full workspace\n",
      "  -id WORKSPACEID      Workspace ID\n",
      "  -o OUTFILE           output file\n",
      "  -i INFILE            input file\n",
      "  -name WSNAME         Workspace Name\n",
      "  -desc WSDESCRIPTION  Workspace Description\n",
      "  -lang WSLANG         Workspace Language\n",
      "  -intents             Intents\n",
      "  -entities            Entities\n",
      "  -dialog_nodes        Dialog Nodes\n",
      "  -counterexamples     Counterexamples\n",
      "  -metadata            Metadata\n"
     ]
    }
   ],
   "source": [
    "%%sh\n",
    "python wctool.py -h"
   ]
  },
  {
   "cell_type": "markdown",
   "metadata": {},
   "source": [
    "The first command lists the existing workspaces. Before you can use the tool you need to put your credentials for Watson Conversation into the file config.json. A template is provided as config.json.sample."
   ]
  },
  {
   "cell_type": "code",
   "execution_count": 5,
   "metadata": {
    "collapsed": false
   },
   "outputs": [
    {
     "name": "stdout",
     "output_type": "stream",
     "text": [
      "Namespace(createWorkspace=False, deleteWorkspace=False, fullWorkspace=False, getWorkspace=False, inFile=None, listWorkspaces=True, outFile=None, updateWorkspace=False, workspaceID=None, wsCounterexamples=False, wsDescription=None, wsDialogNodes=False, wsEntities=False, wsIntents=False, wsLang=None, wsMetadata=False, wsName=None)\n",
      "{\n",
      "  \"pagination\": {\n",
      "    \"refresh_url\": \"/v1/workspaces?version=2017-02-03\"\n",
      "  }, \n",
      "  \"workspaces\": [\n",
      "    {\n",
      "      \"updated\": \"2017-03-07T13:39:18.836Z\", \n",
      "      \"description\": \"Workspace to be used for testing and training.\", \n",
      "      \"language\": \"en\", \n",
      "      \"created\": \"2017-03-07T13:39:18.836Z\", \n",
      "      \"workspace_id\": \"6dc1e2b8-4066-45a3-a5e5-ddfb3b2392a5\", \n",
      "      \"name\": \"Ana\", \n",
      "      \"metadata\": null\n",
      "    }, \n",
      "    {\n",
      "      \"updated\": \"2017-03-07T13:38:03.496Z\", \n",
      "      \"description\": \"tests with dashDB\", \n",
      "      \"language\": \"en\", \n",
      "      \"created\": \"2016-07-12T07:59:00.869Z\", \n",
      "      \"workspace_id\": \"81ec3507-5ccc-47f0-a5aa-c99a813459db\", \n",
      "      \"name\": \"dbtest\", \n",
      "      \"metadata\": {\n",
      "        \"runtime_version\": null\n",
      "      }\n",
      "    }, \n",
      "    {\n",
      "      \"updated\": \"2017-03-07T13:38:20.371Z\", \n",
      "      \"description\": null, \n",
      "      \"language\": \"de\", \n",
      "      \"created\": \"2017-01-24T09:13:57.422Z\", \n",
      "      \"workspace_id\": \"411624b8-733b-4467-a656-6df75a253f15\", \n",
      "      \"name\": \"Ger2\", \n",
      "      \"metadata\": {\n",
      "        \"runtime_version\": null\n",
      "      }\n",
      "    }, \n",
      "    {\n",
      "      \"updated\": \"2017-03-27T13:28:30.671Z\", \n",
      "      \"description\": \"Test der Deutschkenntnisse\", \n",
      "      \"language\": \"de\", \n",
      "      \"created\": \"2017-01-20T16:38:21.718Z\", \n",
      "      \"workspace_id\": \"3ecf2f27-3668-489e-b5cd-39f8cc6f3159\", \n",
      "      \"name\": \"GermanUpdated\", \n",
      "      \"metadata\": {\n",
      "        \"runtime_version\": null\n",
      "      }\n",
      "    }, \n",
      "    {\n",
      "      \"updated\": \"2017-03-28T07:32:12.111Z\", \n",
      "      \"description\": \"Now it is an updated workspace\", \n",
      "      \"language\": \"de\", \n",
      "      \"created\": \"2017-03-28T07:24:36.488Z\", \n",
      "      \"workspace_id\": \"93fac4d7-2fab-4a02-b282-ce28a1d9f3f5\", \n",
      "      \"name\": \"GermanUpdated\", \n",
      "      \"metadata\": {\n",
      "        \"runtime_version\": null\n",
      "      }\n",
      "    }\n",
      "  ]\n",
      "}\n"
     ]
    }
   ],
   "source": [
    "%%sh\n",
    "python wctool.py -l"
   ]
  },
  {
   "cell_type": "markdown",
   "metadata": {},
   "source": [
    "Get the details for one of the existing workspaces. There is not much extra information compared to the LIST command."
   ]
  },
  {
   "cell_type": "code",
   "execution_count": 6,
   "metadata": {
    "collapsed": false
   },
   "outputs": [
    {
     "name": "stdout",
     "output_type": "stream",
     "text": [
      "Namespace(createWorkspace=False, deleteWorkspace=False, fullWorkspace=False, getWorkspace=True, inFile=None, listWorkspaces=False, outFile=None, updateWorkspace=False, workspaceID='93fac4d7-2fab-4a02-b282-ce28a1d9f3f5', wsCounterexamples=False, wsDescription=None, wsDialogNodes=False, wsEntities=False, wsIntents=False, wsLang=None, wsMetadata=False, wsName=None)\n",
      "{\n",
      "  \"status\": \"Available\", \n",
      "  \"updated\": \"2017-03-28T07:32:12.111Z\", \n",
      "  \"description\": \"Now it is an updated workspace\", \n",
      "  \"language\": \"de\", \n",
      "  \"created\": \"2017-03-28T07:24:36.488Z\", \n",
      "  \"workspace_id\": \"93fac4d7-2fab-4a02-b282-ce28a1d9f3f5\", \n",
      "  \"name\": \"GermanUpdated\", \n",
      "  \"metadata\": {\n",
      "    \"runtime_version\": null\n",
      "  }\n",
      "}\n"
     ]
    }
   ],
   "source": [
    "%%sh\n",
    "python wctool.py -g -id \"93fac4d7-2fab-4a02-b282-ce28a1d9f3f5\""
   ]
  },
  {
   "cell_type": "markdown",
   "metadata": {},
   "source": [
    "However, when using the option \"-full\", then the entire workspace is returned."
   ]
  },
  {
   "cell_type": "code",
   "execution_count": 7,
   "metadata": {
    "collapsed": false
   },
   "outputs": [
    {
     "name": "stdout",
     "output_type": "stream",
     "text": [
      "Namespace(createWorkspace=False, deleteWorkspace=False, fullWorkspace=True, getWorkspace=True, inFile=None, listWorkspaces=False, outFile=None, updateWorkspace=False, workspaceID='93fac4d7-2fab-4a02-b282-ce28a1d9f3f5', wsCounterexamples=False, wsDescription=None, wsDialogNodes=False, wsEntities=False, wsIntents=False, wsLang=None, wsMetadata=False, wsName=None)\n",
      "{\n",
      "  \"status\": \"Available\", \n",
      "  \"intents\": [\n",
      "    {\n",
      "      \"updated\": \"2017-03-28T07:32:12.111Z\", \n",
      "      \"description\": null, \n",
      "      \"intent\": \"Begruessung\", \n",
      "      \"examples\": [\n",
      "        {\n",
      "          \"text\": \"Guten Morgen\", \n",
      "          \"updated\": \"2017-03-28T07:32:12.111Z\", \n",
      "          \"created\": \"2017-03-28T07:32:12.111Z\"\n",
      "        }, \n",
      "        {\n",
      "          \"text\": \"Guten Tag\", \n",
      "          \"updated\": \"2017-03-28T07:32:12.111Z\", \n",
      "          \"created\": \"2017-03-28T07:32:12.111Z\"\n",
      "        }, \n",
      "        {\n",
      "          \"text\": \"Hallo, wie ist die Lage?\", \n",
      "          \"updated\": \"2017-03-28T07:32:12.111Z\", \n",
      "          \"created\": \"2017-03-28T07:32:12.111Z\"\n",
      "        }, \n",
      "        {\n",
      "          \"text\": \"Moin, moin, moin\", \n",
      "          \"updated\": \"2017-03-28T07:32:12.111Z\", \n",
      "          \"created\": \"2017-03-28T07:32:12.111Z\"\n",
      "        }, \n",
      "        {\n",
      "          \"text\": \"Moin, wie geht's?\", \n",
      "          \"updated\": \"2017-03-28T07:32:12.111Z\", \n",
      "          \"created\": \"2017-03-28T07:32:12.111Z\"\n",
      "        }, \n",
      "        {\n",
      "          \"text\": \"Tach, alles klar bei dir?\", \n",
      "          \"updated\": \"2017-03-28T07:32:12.111Z\", \n",
      "          \"created\": \"2017-03-28T07:32:12.111Z\"\n",
      "        }, \n",
      "        {\n",
      "          \"text\": \"Wie geht es\", \n",
      "          \"updated\": \"2017-03-28T07:32:12.111Z\", \n",
      "          \"created\": \"2017-03-28T07:32:12.111Z\"\n",
      "        }\n",
      "      ], \n",
      "      \"created\": \"2017-03-28T07:32:12.111Z\"\n",
      "    }, \n",
      "    {\n",
      "      \"updated\": \"2017-03-28T07:32:12.111Z\", \n",
      "      \"description\": null, \n",
      "      \"intent\": \"Regen\", \n",
      "      \"examples\": [\n",
      "        {\n",
      "          \"text\": \"Am Dienstag wird es im Tagesverlauf regnen\", \n",
      "          \"updated\": \"2017-03-28T07:32:12.111Z\", \n",
      "          \"created\": \"2017-03-28T07:32:12.111Z\"\n",
      "        }, \n",
      "        {\n",
      "          \"text\": \"Der Regen geht in Schnee \\u00fcber\", \n",
      "          \"updated\": \"2017-03-28T07:32:12.111Z\", \n",
      "          \"created\": \"2017-03-28T07:32:12.111Z\"\n",
      "        }, \n",
      "        {\n",
      "          \"text\": \"Es ziehen Regenwolken auf.\", \n",
      "          \"updated\": \"2017-03-28T07:32:12.111Z\", \n",
      "          \"created\": \"2017-03-28T07:32:12.111Z\"\n",
      "        }, \n",
      "        {\n",
      "          \"text\": \"Gibt es morgen Regen?\", \n",
      "          \"updated\": \"2017-03-28T07:32:12.111Z\", \n",
      "          \"created\": \"2017-03-28T07:32:12.111Z\"\n",
      "        }, \n",
      "        {\n",
      "          \"text\": \"Morgen wird es Regen geben.\", \n",
      "          \"updated\": \"2017-03-28T07:32:12.111Z\", \n",
      "          \"created\": \"2017-03-28T07:32:12.111Z\"\n",
      "        }\n",
      "      ], \n",
      "      \"created\": \"2017-03-28T07:32:12.111Z\"\n",
      "    }, \n",
      "    {\n",
      "      \"updated\": \"2017-03-28T07:32:12.111Z\", \n",
      "      \"description\": null, \n",
      "      \"intent\": \"Sonne\", \n",
      "      \"examples\": [\n",
      "        {\n",
      "          \"text\": \"Am Nachmittag h\\u00f6rt der Regen auf und die Sonne setzt sich durch.\", \n",
      "          \"updated\": \"2017-03-28T07:32:12.111Z\", \n",
      "          \"created\": \"2017-03-28T07:32:12.111Z\"\n",
      "        }, \n",
      "        {\n",
      "          \"text\": \"Am Nachmittag kommt die Sonne durch.\", \n",
      "          \"updated\": \"2017-03-28T07:32:12.111Z\", \n",
      "          \"created\": \"2017-03-28T07:32:12.111Z\"\n",
      "        }, \n",
      "        {\n",
      "          \"text\": \"Der Tag bringt mehr Sonne als Wolken.\", \n",
      "          \"updated\": \"2017-03-28T07:32:12.111Z\", \n",
      "          \"created\": \"2017-03-28T07:32:12.111Z\"\n",
      "        }, \n",
      "        {\n",
      "          \"text\": \"Der Tag wird \\u00fcberwiegend sonnig.\", \n",
      "          \"updated\": \"2017-03-28T07:32:12.111Z\", \n",
      "          \"created\": \"2017-03-28T07:32:12.111Z\"\n",
      "        }, \n",
      "        {\n",
      "          \"text\": \"Die Sonne wird den gesamten Tag \\u00fcber scheinen.\", \n",
      "          \"updated\": \"2017-03-28T07:32:12.111Z\", \n",
      "          \"created\": \"2017-03-28T07:32:12.111Z\"\n",
      "        }\n",
      "      ], \n",
      "      \"created\": \"2017-03-28T07:32:12.111Z\"\n",
      "    }, \n",
      "    {\n",
      "      \"updated\": \"2017-03-28T07:32:12.111Z\", \n",
      "      \"description\": null, \n",
      "      \"intent\": \"verabschiedung\", \n",
      "      \"examples\": [\n",
      "        {\n",
      "          \"text\": \"Alles Gute\", \n",
      "          \"updated\": \"2017-03-28T07:32:12.111Z\", \n",
      "          \"created\": \"2017-03-28T07:32:12.111Z\"\n",
      "        }, \n",
      "        {\n",
      "          \"text\": \"Auf Wiedersehen\", \n",
      "          \"updated\": \"2017-03-28T07:32:12.111Z\", \n",
      "          \"created\": \"2017-03-28T07:32:12.111Z\"\n",
      "        }, \n",
      "        {\n",
      "          \"text\": \"Bis dann\", \n",
      "          \"updated\": \"2017-03-28T07:32:12.111Z\", \n",
      "          \"created\": \"2017-03-28T07:32:12.111Z\"\n",
      "        }, \n",
      "        {\n",
      "          \"text\": \"Na dann, bis demn\\u00e4chst.\", \n",
      "          \"updated\": \"2017-03-28T07:32:12.111Z\", \n",
      "          \"created\": \"2017-03-28T07:32:12.111Z\"\n",
      "        }, \n",
      "        {\n",
      "          \"text\": \"Tschau\", \n",
      "          \"updated\": \"2017-03-28T07:32:12.111Z\", \n",
      "          \"created\": \"2017-03-28T07:32:12.111Z\"\n",
      "        }, \n",
      "        {\n",
      "          \"text\": \"Tsch\\u00fcss, bis bald\", \n",
      "          \"updated\": \"2017-03-28T07:32:12.111Z\", \n",
      "          \"created\": \"2017-03-28T07:32:12.111Z\"\n",
      "        }\n",
      "      ], \n",
      "      \"created\": \"2017-03-28T07:32:12.111Z\"\n",
      "    }, \n",
      "    {\n",
      "      \"updated\": \"2017-03-28T07:32:12.111Z\", \n",
      "      \"description\": null, \n",
      "      \"intent\": \"Wetter\", \n",
      "      \"examples\": [\n",
      "        {\n",
      "          \"text\": \"Es kommt zu Wetterbesserungen.\", \n",
      "          \"updated\": \"2017-03-28T07:32:12.111Z\", \n",
      "          \"created\": \"2017-03-28T07:32:12.111Z\"\n",
      "        }, \n",
      "        {\n",
      "          \"text\": \"In den n\\u00e4chsten Tagen wird das Wetter wieder freundlicher.\", \n",
      "          \"updated\": \"2017-03-28T07:32:12.111Z\", \n",
      "          \"created\": \"2017-03-28T07:32:12.111Z\"\n",
      "        }, \n",
      "        {\n",
      "          \"text\": \"Lass uns \\u00fcber das Wetter sprechen.\", \n",
      "          \"updated\": \"2017-03-28T07:32:12.111Z\", \n",
      "          \"created\": \"2017-03-28T07:32:12.111Z\"\n",
      "        }, \n",
      "        {\n",
      "          \"text\": \"Was macht das Wetter?\", \n",
      "          \"updated\": \"2017-03-28T07:32:12.111Z\", \n",
      "          \"created\": \"2017-03-28T07:32:12.111Z\"\n",
      "        }, \n",
      "        {\n",
      "          \"text\": \"Wie ist heute das Wetter?\", \n",
      "          \"updated\": \"2017-03-28T07:32:12.111Z\", \n",
      "          \"created\": \"2017-03-28T07:32:12.111Z\"\n",
      "        }, \n",
      "        {\n",
      "          \"text\": \"Wie wird das Wetter am Samstag? Wird es schneien?\", \n",
      "          \"updated\": \"2017-03-28T07:32:12.111Z\", \n",
      "          \"created\": \"2017-03-28T07:32:12.111Z\"\n",
      "        }, \n",
      "        {\n",
      "          \"text\": \"Wie wird morgen das Wetter sein?\", \n",
      "          \"updated\": \"2017-03-28T07:32:12.111Z\", \n",
      "          \"created\": \"2017-03-28T07:32:12.111Z\"\n",
      "        }\n",
      "      ], \n",
      "      \"created\": \"2017-03-28T07:32:12.111Z\"\n",
      "    }\n",
      "  ], \n",
      "  \"name\": \"GermanUpdated\", \n",
      "  \"language\": \"de\", \n",
      "  \"created\": \"2017-03-28T07:24:36.488Z\", \n",
      "  \"workspace_id\": \"93fac4d7-2fab-4a02-b282-ce28a1d9f3f5\", \n",
      "  \"description\": \"Now it is an updated workspace\", \n",
      "  \"updated\": \"2017-03-28T07:32:12.111Z\", \n",
      "  \"entities\": [\n",
      "    {\n",
      "      \"updated\": \"2017-03-28T07:32:12.111Z\", \n",
      "      \"description\": null, \n",
      "      \"created\": \"2017-03-28T07:32:12.111Z\", \n",
      "      \"entity\": \"wetterlage\", \n",
      "      \"source\": null, \n",
      "      \"open_list\": false, \n",
      "      \"values\": [\n",
      "        {\n",
      "          \"updated\": \"2017-03-28T07:32:12.111Z\", \n",
      "          \"metadata\": null, \n",
      "          \"synonyms\": [\n",
      "            \"Niederschlag\", \n",
      "            \"regnerisch\", \n",
      "            \"Schauer\", \n",
      "            \"tr\\u00f6pfeln\"\n",
      "          ], \n",
      "          \"value\": \"Regen\", \n",
      "          \"created\": \"2017-03-28T07:32:12.111Z\"\n",
      "        }, \n",
      "        {\n",
      "          \"updated\": \"2017-03-28T07:32:12.111Z\", \n",
      "          \"metadata\": null, \n",
      "          \"synonyms\": [\n",
      "            \"klar\", \n",
      "            \"sonnig\"\n",
      "          ], \n",
      "          \"value\": \"Sonne\", \n",
      "          \"created\": \"2017-03-28T07:32:12.111Z\"\n",
      "        }, \n",
      "        {\n",
      "          \"updated\": \"2017-03-28T07:32:12.111Z\", \n",
      "          \"metadata\": null, \n",
      "          \"synonyms\": [\n",
      "            \"frostig\", \n",
      "            \"hei\\u00df\", \n",
      "            \"kalt\", \n",
      "            \"K\\u00e4lte\", \n",
      "            \"k\\u00fchl\", \n",
      "            \"lauwarm\", \n",
      "            \"warm\", \n",
      "            \"W\\u00e4rme\"\n",
      "          ], \n",
      "          \"value\": \"Temperatur\", \n",
      "          \"created\": \"2017-03-28T07:32:12.111Z\"\n",
      "        }\n",
      "      ], \n",
      "      \"type\": null\n",
      "    }\n",
      "  ], \n",
      "  \"counterexamples\": [], \n",
      "  \"dialog_nodes\": [\n",
      "    {\n",
      "      \"updated\": \"2017-03-28T07:32:12.111Z\", \n",
      "      \"description\": null, \n",
      "      \"parent\": null, \n",
      "      \"created\": \"2017-03-28T07:32:12.111Z\", \n",
      "      \"dialog_node\": \"beginn\", \n",
      "      \"previous_sibling\": null, \n",
      "      \"context\": null, \n",
      "      \"output\": {}, \n",
      "      \"metadata\": null, \n",
      "      \"conditions\": \"#begr\\u00fc\\u00dfung\", \n",
      "      \"go_to\": null\n",
      "    }\n",
      "  ], \n",
      "  \"metadata\": {\n",
      "    \"runtime_version\": null\n",
      "  }\n",
      "}\n"
     ]
    }
   ],
   "source": [
    "%%sh\n",
    "python wctool.py -g -id \"93fac4d7-2fab-4a02-b282-ce28a1d9f3f5\" -full"
   ]
  },
  {
   "cell_type": "markdown",
   "metadata": {},
   "source": [
    "Instead of printing the workspace to the screen, it can be saved to a file. When the \"-o\" (output) option is used it is assumed that you are interested in the full workspace."
   ]
  },
  {
   "cell_type": "code",
   "execution_count": 8,
   "metadata": {
    "collapsed": false
   },
   "outputs": [
    {
     "name": "stdout",
     "output_type": "stream",
     "text": [
      "Namespace(createWorkspace=False, deleteWorkspace=False, fullWorkspace=False, getWorkspace=True, inFile=None, listWorkspaces=False, outFile='henriksWorkspace.json', updateWorkspace=False, workspaceID='93fac4d7-2fab-4a02-b282-ce28a1d9f3f5', wsCounterexamples=False, wsDescription=None, wsDialogNodes=False, wsEntities=False, wsIntents=False, wsLang=None, wsMetadata=False, wsName=None)\n",
      "Document saved to henriksWorkspace.json\n"
     ]
    }
   ],
   "source": [
    "%%sh\n",
    "python wctool.py -g -id \"93fac4d7-2fab-4a02-b282-ce28a1d9f3f5\" -o henriksWorkspace.json"
   ]
  },
  {
   "cell_type": "markdown",
   "metadata": {},
   "source": [
    "An existing workspace can be used to populate a new workspace. So here is how to create one:"
   ]
  },
  {
   "cell_type": "code",
   "execution_count": 9,
   "metadata": {
    "collapsed": false
   },
   "outputs": [
    {
     "name": "stdout",
     "output_type": "stream",
     "text": [
      "Namespace(createWorkspace=True, deleteWorkspace=False, fullWorkspace=False, getWorkspace=False, inFile='henriksWorkspace.json', listWorkspaces=False, outFile=None, updateWorkspace=False, workspaceID=None, wsCounterexamples=False, wsDescription='Test for my blog', wsDialogNodes=False, wsEntities=False, wsIntents=False, wsLang='de', wsMetadata=False, wsName='HenriksNewWorkspace')\n",
      "{\n",
      "  \"updated\": \"2017-03-28T09:00:08.181Z\", \n",
      "  \"description\": \"Test for my blog\", \n",
      "  \"language\": \"de\", \n",
      "  \"created\": \"2017-03-28T09:00:08.181Z\", \n",
      "  \"workspace_id\": \"f5db2447-55dd-4c7e-a764-2319a17dbfee\", \n",
      "  \"name\": \"HenriksNewWorkspace\", \n",
      "  \"metadata\": {\n",
      "    \"runtime_version\": null\n",
      "  }\n",
      "}\n"
     ]
    }
   ],
   "source": [
    "%%sh\n",
    "python wctool.py -c -name HenriksNewWorkspace -desc \"Test for my blog\" -lang de -i henriksWorkspace.json"
   ]
  },
  {
   "cell_type": "markdown",
   "metadata": {},
   "source": [
    "An existing workspace can be updated and the name, its language or the description be changed. It is also possible to replace intents, entities and other parts of the workspace (shown in the step hereafter)."
   ]
  },
  {
   "cell_type": "code",
   "execution_count": 10,
   "metadata": {
    "collapsed": false
   },
   "outputs": [
    {
     "name": "stdout",
     "output_type": "stream",
     "text": [
      "Namespace(createWorkspace=False, deleteWorkspace=False, fullWorkspace=False, getWorkspace=False, inFile=None, listWorkspaces=False, outFile=None, updateWorkspace=True, workspaceID='f5db2447-55dd-4c7e-a764-2319a17dbfee', wsCounterexamples=False, wsDescription=None, wsDialogNodes=False, wsEntities=False, wsIntents=False, wsLang=None, wsMetadata=False, wsName='Henrik renamed it')\n",
      "Workspace updated - new workspace\n",
      "{\n",
      "  \"updated\": \"2017-03-28T09:01:30.078Z\", \n",
      "  \"description\": \"Test for my blog\", \n",
      "  \"language\": \"de\", \n",
      "  \"created\": \"2017-03-28T09:00:08.181Z\", \n",
      "  \"workspace_id\": \"f5db2447-55dd-4c7e-a764-2319a17dbfee\", \n",
      "  \"name\": \"Henrik renamed it\", \n",
      "  \"metadata\": {\n",
      "    \"runtime_version\": null\n",
      "  }\n",
      "}\n"
     ]
    }
   ],
   "source": [
    "%%sh\n",
    "python wctool.py -u -id \"f5db2447-55dd-4c7e-a764-2319a17dbfee\" -name \"Henrik renamed it\""
   ]
  },
  {
   "cell_type": "markdown",
   "metadata": {},
   "source": [
    "Now you would edit the local file to make changes to intents, entities or dialog node and store the changes back to the file henriksWorkspace.json. That file is taken as input for the UPDATE command. Only those section specified as options are updated. In the sample below only intents and counterexamples are updated."
   ]
  },
  {
   "cell_type": "code",
   "execution_count": 11,
   "metadata": {
    "collapsed": false
   },
   "outputs": [
    {
     "name": "stdout",
     "output_type": "stream",
     "text": [
      "Namespace(createWorkspace=False, deleteWorkspace=False, fullWorkspace=False, getWorkspace=False, inFile='henriksWorkspace.json', listWorkspaces=False, outFile=None, updateWorkspace=True, workspaceID='f5db2447-55dd-4c7e-a764-2319a17dbfee', wsCounterexamples=True, wsDescription=None, wsDialogNodes=False, wsEntities=False, wsIntents=True, wsLang=None, wsMetadata=False, wsName=None)\n",
      "Workspace updated - new workspace\n",
      "{\n",
      "  \"updated\": \"2017-03-28T09:03:32.121Z\", \n",
      "  \"description\": \"Test for my blog\", \n",
      "  \"language\": \"de\", \n",
      "  \"created\": \"2017-03-28T09:00:08.181Z\", \n",
      "  \"workspace_id\": \"f5db2447-55dd-4c7e-a764-2319a17dbfee\", \n",
      "  \"name\": \"Henrik renamed it\", \n",
      "  \"metadata\": {\n",
      "    \"runtime_version\": null\n",
      "  }\n",
      "}\n"
     ]
    }
   ],
   "source": [
    "%%sh\n",
    "python wctool.py -u -id \"f5db2447-55dd-4c7e-a764-2319a17dbfee\" -intents -counterexamples -i henriksWorkspace.json"
   ]
  },
  {
   "cell_type": "markdown",
   "metadata": {},
   "source": [
    "A workspace can also be deleted. Use with care..."
   ]
  },
  {
   "cell_type": "code",
   "execution_count": 12,
   "metadata": {
    "collapsed": false
   },
   "outputs": [
    {
     "name": "stdout",
     "output_type": "stream",
     "text": [
      "Namespace(createWorkspace=False, deleteWorkspace=True, fullWorkspace=False, getWorkspace=False, inFile=None, listWorkspaces=False, outFile=None, updateWorkspace=False, workspaceID='f5db2447-55dd-4c7e-a764-2319a17dbfee', wsCounterexamples=False, wsDescription=None, wsDialogNodes=False, wsEntities=False, wsIntents=False, wsLang=None, wsMetadata=False, wsName=None)\n",
      "Workspace deleted\n"
     ]
    }
   ],
   "source": [
    "%%sh\n",
    "python wctool.py -d -id \"f5db2447-55dd-4c7e-a764-2319a17dbfee\""
   ]
  },
  {
   "cell_type": "code",
   "execution_count": null,
   "metadata": {
    "collapsed": true
   },
   "outputs": [],
   "source": []
  }
 ],
 "metadata": {
  "kernelspec": {
   "display_name": "Python 2",
   "language": "python",
   "name": "python2"
  },
  "language_info": {
   "codemirror_mode": {
    "name": "ipython",
    "version": 2
   },
   "file_extension": ".py",
   "mimetype": "text/x-python",
   "name": "python",
   "nbconvert_exporter": "python",
   "pygments_lexer": "ipython2",
   "version": "2.7.5"
  }
 },
 "nbformat": 4,
 "nbformat_minor": 1
}
